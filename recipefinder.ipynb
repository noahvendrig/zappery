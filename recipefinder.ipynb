{
 "cells": [
  {
   "cell_type": "code",
   "execution_count": 1,
   "id": "c6bb5b31",
   "metadata": {},
   "outputs": [],
   "source": [
    "#import required modules\n",
    "import pandas as pd\n",
    "import time"
   ]
  },
  {
   "cell_type": "code",
   "execution_count": 3,
   "id": "3ac5511a",
   "metadata": {},
   "outputs": [
    {
     "name": "stdout",
     "output_type": "stream",
     "text": [
      "2.515625\n"
     ]
    }
   ],
   "source": [
    "t = time.process_time()\n",
    "dataset = pd.read_csv(\"RAW_recipes.csv\")\n",
    "\n",
    "elapsed_time = time.process_time() - t\n",
    "print(elapsed_time)\n"
   ]
  },
  {
   "cell_type": "code",
   "execution_count": 4,
   "id": "58f59944",
   "metadata": {},
   "outputs": [],
   "source": [
    "#for loop for the column and for loop for every ingredient to find recipes\n",
    "\n",
    "#split spring for ingredients by space and comma\n",
    "\n",
    "# split = ingredients.split(', ') - uncomment this later and work it out into algorithm"
   ]
  },
  {
   "cell_type": "code",
   "execution_count": 5,
   "id": "f2b95f6e",
   "metadata": {},
   "outputs": [],
   "source": [
    "class RecipeFinder:\n",
    "    def __init__(self, query):\n",
    "        self.query = query\n",
    "        self.found_recipe_indexes = [] # list of the indexes of the matching recipes we will find later\n",
    "        self.ingredients = []\n",
    "#         self.dataset = pd.read_csv(\"RAW_recipes.csv\")\n",
    "    \n",
    "    def ProcessInput(self):\n",
    "        self.ingredients = self.query.split(\", \") # make a list so we can add multiple ingredients that we have\n",
    "\n",
    "\n",
    "    \n",
    "    def Search(self, dataset):\n",
    "        self.ProcessInput()\n",
    "        for i,j in dataset.iterrows(): # iterate through dataset\n",
    "            line = j[\"ingredients\"] # line e.g. the cell with the ingredients\n",
    "            line = line.split(\", \") # split by comma to get individual ingredients in list\n",
    "            \n",
    "            if set(line).issubset(self.ingredients): # convert to set so and see if recipe is a subset of our ingredients list (returns recipes in which we either have just enough or more than enough ingreds for)\n",
    "                self.found_recipe_indexes.append(i) # add to list of indexes of recipes we found with the desired ingredient\n",
    "        "
   ]
  },
  {
   "cell_type": "code",
   "execution_count": 6,
   "id": "9fa39840",
   "metadata": {},
   "outputs": [],
   "source": [
    "# user_ingreds = 'all-purpose flour, icing sugar, shortening, vanilla, baking powder, sugar, eggs, salt, milk, butter, butter, sugar, vanilla, eggs, all-purpose flour, baking cocoa, baking powder, salt, miniature peppermint patties'\n",
    "#matches recipe at index 47 jeaness bday cake\n",
    "user_ingreds = 'butter, lemon, juice of, salt, white pepper, egg yolks, bananas, zappery' # test cases\n",
    "instance = RecipeFinder(user_ingreds)\n"
   ]
  },
  {
   "cell_type": "code",
   "execution_count": null,
   "id": "ebf33caf",
   "metadata": {},
   "outputs": [],
   "source": []
  },
  {
   "cell_type": "code",
   "execution_count": 7,
   "id": "a484cd5c",
   "metadata": {},
   "outputs": [],
   "source": [
    "instance.Search(dataset)"
   ]
  },
  {
   "cell_type": "code",
   "execution_count": 8,
   "id": "dc2a9e46",
   "metadata": {},
   "outputs": [
    {
     "data": {
      "text/plain": [
       "[24]"
      ]
     },
     "execution_count": 8,
     "metadata": {},
     "output_type": "execute_result"
    }
   ],
   "source": [
    "instance.found_recipe_indexes"
   ]
  },
  {
   "cell_type": "code",
   "execution_count": 9,
   "id": "ba84b17a",
   "metadata": {},
   "outputs": [],
   "source": [
    "recipes = dataset.iloc[instance.found_recipe_indexes]"
   ]
  },
  {
   "cell_type": "code",
   "execution_count": 10,
   "id": "206832da",
   "metadata": {},
   "outputs": [
    {
     "data": {
      "text/html": [
       "<div>\n",
       "<style scoped>\n",
       "    .dataframe tbody tr th:only-of-type {\n",
       "        vertical-align: middle;\n",
       "    }\n",
       "\n",
       "    .dataframe tbody tr th {\n",
       "        vertical-align: top;\n",
       "    }\n",
       "\n",
       "    .dataframe thead th {\n",
       "        text-align: right;\n",
       "    }\n",
       "</style>\n",
       "<table border=\"1\" class=\"dataframe\">\n",
       "  <thead>\n",
       "    <tr style=\"text-align: right;\">\n",
       "      <th></th>\n",
       "      <th>name</th>\n",
       "      <th>id</th>\n",
       "      <th>minutes</th>\n",
       "      <th>contributor_id</th>\n",
       "      <th>submitted</th>\n",
       "      <th>tags</th>\n",
       "      <th>nutrition</th>\n",
       "      <th>n_steps</th>\n",
       "      <th>steps</th>\n",
       "      <th>description</th>\n",
       "      <th>ingredients</th>\n",
       "      <th>n_ingredients</th>\n",
       "    </tr>\n",
       "  </thead>\n",
       "  <tbody>\n",
       "    <tr>\n",
       "      <th>24</th>\n",
       "      <td>easiest ever  hollandaise sauce</td>\n",
       "      <td>49262</td>\n",
       "      <td>25</td>\n",
       "      <td>64428</td>\n",
       "      <td>19/12/2002</td>\n",
       "      <td>30-minutes-or-less', 'time-to-make', 'course',...</td>\n",
       "      <td>1290.4, 213.0, 4.0, 53.0, 22.0, 417.0, 1.0</td>\n",
       "      <td>7</td>\n",
       "      <td>cut the butter into several pieces and bring t...</td>\n",
       "      <td>the secret to this easy hollandaise sauce is i...</td>\n",
       "      <td>butter, lemon, juice of, salt, white pepper, e...</td>\n",
       "      <td>5</td>\n",
       "    </tr>\n",
       "  </tbody>\n",
       "</table>\n",
       "</div>"
      ],
      "text/plain": [
       "                               name     id  minutes  contributor_id  \\\n",
       "24  easiest ever  hollandaise sauce  49262       25           64428   \n",
       "\n",
       "     submitted                                               tags  \\\n",
       "24  19/12/2002  30-minutes-or-less', 'time-to-make', 'course',...   \n",
       "\n",
       "                                     nutrition  n_steps  \\\n",
       "24  1290.4, 213.0, 4.0, 53.0, 22.0, 417.0, 1.0        7   \n",
       "\n",
       "                                                steps  \\\n",
       "24  cut the butter into several pieces and bring t...   \n",
       "\n",
       "                                          description  \\\n",
       "24  the secret to this easy hollandaise sauce is i...   \n",
       "\n",
       "                                          ingredients  n_ingredients  \n",
       "24  butter, lemon, juice of, salt, white pepper, e...              5  "
      ]
     },
     "execution_count": 10,
     "metadata": {},
     "output_type": "execute_result"
    }
   ],
   "source": [
    "recipes"
   ]
  },
  {
   "cell_type": "code",
   "execution_count": null,
   "id": "ca15b770",
   "metadata": {},
   "outputs": [],
   "source": []
  }
 ],
 "metadata": {
  "kernelspec": {
   "display_name": "Python 3",
   "language": "python",
   "name": "python3"
  },
  "language_info": {
   "codemirror_mode": {
    "name": "ipython",
    "version": 3
   },
   "file_extension": ".py",
   "mimetype": "text/x-python",
   "name": "python",
   "nbconvert_exporter": "python",
   "pygments_lexer": "ipython3",
   "version": "3.7.9"
  }
 },
 "nbformat": 4,
 "nbformat_minor": 5
}
