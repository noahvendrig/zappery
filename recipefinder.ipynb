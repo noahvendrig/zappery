{
 "cells": [
  {
   "cell_type": "code",
   "execution_count": 18,
   "id": "c6bb5b31",
   "metadata": {},
   "outputs": [],
   "source": [
    "#import required modules\n",
    "import pandas as pd\n",
    "import time"
   ]
  },
  {
   "cell_type": "code",
   "execution_count": 19,
   "id": "3ac5511a",
   "metadata": {},
   "outputs": [
    {
     "name": "stdout",
     "output_type": "stream",
     "text": [
      "7.09375\n"
     ]
    }
   ],
   "source": [
    "t = time.process_time()\n",
    "dataset = pd.read_csv(\"RAW_recipes.csv\")\n",
    "\n",
    "elapsed_time = time.process_time() - t\n",
    "print(elapsed_time)\n"
   ]
  },
  {
   "cell_type": "code",
   "execution_count": 20,
   "id": "58f59944",
   "metadata": {},
   "outputs": [],
   "source": [
    "#for loop for the column and for loop for every ingredient to find recipes\n",
    "\n",
    "#split spring for ingredients by space and comma\n",
    "\n",
    "# split = ingredients.split(', ') - uncomment this later and work it out into algorithm"
   ]
  },
  {
   "cell_type": "code",
   "execution_count": 140,
   "id": "f2b95f6e",
   "metadata": {},
   "outputs": [],
   "source": [
    "class RecipeFinder:\n",
    "    def __init__(self, query):\n",
    "        self.query = query\n",
    "        self.user_time = query[1]\n",
    "        self.found_recipe_indexes = [] # list of the indexes of the matching recipes we will find later\n",
    "        self.ingredients = \"\"\n",
    "        self.Recipes = None\n",
    "#         self.dataset = pd.read_csv(\"RAW_recipes.csv\")\n",
    "    \n",
    "    def ProcessInput(self):\n",
    "        self.ingredients = self.query[0].split(\", \") # make a list so we can add multiple ingredients that we have\n",
    "\n",
    "\n",
    "    \n",
    "    def Search(self, dataset):\n",
    "        self.ProcessInput()\n",
    "        for i,j in dataset[:10000].iterrows(): # iterate through dataset\n",
    "            ingred_list = j[\"ingredients\"] # line e.g. the cell with the ingredients\n",
    "            ingred_list = ingred_list.split(\", \") # split by comma to get individual ingredients in list\n",
    "            if len(ingred_list) >= j['n_ingredients']:\n",
    "                if set(ingred_list).issubset(self.ingredients): # convert to set so and see if recipe is a subset of our ingredients list (returns recipes in which we either have just enough or more than enough ingreds for)\n",
    "#                     if j['minutes'] <= self.user_time:\n",
    "                    self.found_recipe_indexes.append(i) # add to list of indexes of recipes we found with the desired ingredient\n",
    "        self.Recipes = self.FoundRecipes(self.found_recipe_indexes)\n",
    "        \n",
    "    class FoundRecipes: #subclass for found recipes\n",
    "        def __init__(self, indexes):\n",
    "#             print(indexes)\n",
    "            self.all = dataset.iloc[indexes] # new dataframe with the recipes that match user's query\n",
    "            self.ids = [j['id'] for i,j in self.all.iterrows()]\n",
    "            self.names = [j['name'] for i,j in self.all.iterrows()] # list comprehension to return the names of the recipes we found (similar to the one we used earlier)\n",
    "            self.minutes = [j['minutes'] for i,j in self.all.iterrows()]\n",
    "            self.steps = [j['steps'] for i,j in self.all.iterrows()]\n",
    "            self.n_steps = [j['n_steps'] for i,j in self.all.iterrows()]\n",
    "        \n",
    "        def AccessRecipe(self, index):\n",
    "            id_num = self.ids[index]\n",
    "            name = self.names[index]\n",
    "            steps = self.steps[index]\n",
    "            return id_num, name, steps\n",
    "        \n",
    "        def FormatRecipe(self, index):\n",
    "            id_num = self.ids[index]\n",
    "            name = self.names[index].title() # capitalise the letters\n",
    "            name = name.replace(\"  \", \" \")\n",
    "            minutes = self.minutes[index]\n",
    "            steps = self.steps[index].split(\"', '\")\n",
    "            \n",
    "            print(name, \"\\n\")\n",
    "            print(f\"This recipe takes {minutes} minutes to cook\\n\")\n",
    "            \n",
    "            for step in range(len(steps)): # iterate through amount of steps we have, we do this instead of iterating through the list so we can get the step number\n",
    "                line = steps[step].capitalize() # capitalise first letter\n",
    "                line = line.replace(\"'\",\"\").replace(\" ,\", \",\") + \".\"#replace any leftover quotation marks that might be left (there are some)\n",
    "                print(f\"{step+1}. {line}\") # step num = step+1 since index starts at 0, and we dont want step 0\n",
    "            \n",
    "            \n",
    "            \n",
    "            \n",
    "            \n",
    "        \n",
    "        \n",
    "        "
   ]
  },
  {
   "cell_type": "code",
   "execution_count": 141,
   "id": "9fa39840",
   "metadata": {},
   "outputs": [],
   "source": [
    "# user_ingreds = 'all-purpose flour, icing sugar, shortening, vanilla, baking powder, sugar, eggs, salt, milk, butter, butter, sugar, vanilla, eggs, all-purpose flour, baking cocoa, baking powder, salt, miniature peppermint patties'\n",
    "#matches recipe at index 47 jeaness bday cake\n",
    "user_ingreds = 'butter, lemon, juice of, salt, white pepper, egg yolks, bananas, zappery, all-purpose flour, icing sugar, shortening, vanilla, baking powder, sugar, eggs, salt, milk, butter, butter, sugar, vanilla, eggs, all-purpose flour, baking cocoa, baking powder, salt, miniature peppermint patties' # test cases\n",
    "minutes = 100\n",
    "instance = RecipeFinder([user_ingreds, minutes]) #pass it all in one list as one query - ideally receive user input from GUI in a list\n",
    "instance.Search(dataset)"
   ]
  },
  {
   "cell_type": "code",
   "execution_count": 142,
   "id": "6627fa15",
   "metadata": {},
   "outputs": [
    {
     "data": {
      "text/plain": [
       "['easiest ever  hollandaise sauce',\n",
       " 'get the sensation  brownies',\n",
       " 'jeanne s style  birthday cake',\n",
       " 'anna s brilliant biscuits']"
      ]
     },
     "execution_count": 142,
     "metadata": {},
     "output_type": "execute_result"
    }
   ],
   "source": [
    "# instance.Recipes.names"
   ]
  },
  {
   "cell_type": "code",
   "execution_count": 143,
   "id": "8a647f56",
   "metadata": {},
   "outputs": [
    {
     "name": "stdout",
     "output_type": "stream",
     "text": [
      "Easiest Ever Hollandaise Sauce \n",
      "\n",
      "This recipe takes 25 minutes to cook\n",
      "\n",
      "1. Cut the butter into several pieces and bring to room temperature.\n",
      "2. In the top of a double boiler, combine egg yolks, lemon juice, salt and pepper.\n",
      "3. Add a piece of butter.\n",
      "4. Cook, stirring steadily with a wooden spoon or wire whisk, over, but not touching, boiling water.\n",
      "5. When butter melts and sauce begins to thicken, add remaining butter, stirring constantly until melted.\n",
      "6. Continue cooking as sauce thickens, about 2 more minutes.\n",
      "7. Immediately remove from heat.\n"
     ]
    }
   ],
   "source": [
    "# GET RECIPE\n",
    "\n",
    "res = instance.Recipes.FormatRecipe(0) # use any index, maybe the index can be linked to what recipe they select in the GUI\n",
    "res"
   ]
  },
  {
   "cell_type": "code",
   "execution_count": null,
   "id": "d30d2143",
   "metadata": {},
   "outputs": [],
   "source": []
  },
  {
   "cell_type": "code",
   "execution_count": 51,
   "id": "369333a7",
   "metadata": {},
   "outputs": [
    {
     "data": {
      "text/plain": [
       "name                                    get the sensation  brownies\n",
       "id                                                            27087\n",
       "minutes                                                          70\n",
       "contributor_id                                                37305\n",
       "submitted                                                 3/05/2002\n",
       "tags              weeknight', 'time-to-make', 'course', 'main-in...\n",
       "nutrition                    174.4, 13.0, 67.0, 5.0, 4.0, 26.0, 7.0\n",
       "n_steps                                                          11\n",
       "steps             preheat oven to 350 degrees', 'grease 13 x 9 b...\n",
       "description       a yummy thick chocolate mint brownie from york...\n",
       "ingredients       butter, sugar, vanilla, eggs, all-purpose flou...\n",
       "n_ingredients                                                     9\n",
       "Name: 30, dtype: object"
      ]
     },
     "execution_count": 51,
     "metadata": {},
     "output_type": "execute_result"
    }
   ],
   "source": [
    "new_df = instance.Recipes.all\n",
    "new_df.iloc[1]"
   ]
  },
  {
   "cell_type": "code",
   "execution_count": 30,
   "id": "be659da8",
   "metadata": {},
   "outputs": [
    {
     "data": {
      "text/html": [
       "<div>\n",
       "<style scoped>\n",
       "    .dataframe tbody tr th:only-of-type {\n",
       "        vertical-align: middle;\n",
       "    }\n",
       "\n",
       "    .dataframe tbody tr th {\n",
       "        vertical-align: top;\n",
       "    }\n",
       "\n",
       "    .dataframe thead th {\n",
       "        text-align: right;\n",
       "    }\n",
       "</style>\n",
       "<table border=\"1\" class=\"dataframe\">\n",
       "  <thead>\n",
       "    <tr style=\"text-align: right;\">\n",
       "      <th></th>\n",
       "      <th>name</th>\n",
       "      <th>id</th>\n",
       "      <th>minutes</th>\n",
       "      <th>contributor_id</th>\n",
       "      <th>submitted</th>\n",
       "      <th>tags</th>\n",
       "      <th>nutrition</th>\n",
       "      <th>n_steps</th>\n",
       "      <th>steps</th>\n",
       "      <th>description</th>\n",
       "      <th>ingredients</th>\n",
       "      <th>n_ingredients</th>\n",
       "    </tr>\n",
       "  </thead>\n",
       "  <tbody>\n",
       "    <tr>\n",
       "      <th>24</th>\n",
       "      <td>easiest ever  hollandaise sauce</td>\n",
       "      <td>49262</td>\n",
       "      <td>25</td>\n",
       "      <td>64428</td>\n",
       "      <td>19/12/2002</td>\n",
       "      <td>30-minutes-or-less', 'time-to-make', 'course',...</td>\n",
       "      <td>1290.4, 213.0, 4.0, 53.0, 22.0, 417.0, 1.0</td>\n",
       "      <td>7</td>\n",
       "      <td>cut the butter into several pieces and bring t...</td>\n",
       "      <td>the secret to this easy hollandaise sauce is i...</td>\n",
       "      <td>butter, lemon, juice of, salt, white pepper, e...</td>\n",
       "      <td>5</td>\n",
       "    </tr>\n",
       "    <tr>\n",
       "      <th>30</th>\n",
       "      <td>get the sensation  brownies</td>\n",
       "      <td>27087</td>\n",
       "      <td>70</td>\n",
       "      <td>37305</td>\n",
       "      <td>3/05/2002</td>\n",
       "      <td>weeknight', 'time-to-make', 'course', 'main-in...</td>\n",
       "      <td>174.4, 13.0, 67.0, 5.0, 4.0, 26.0, 7.0</td>\n",
       "      <td>11</td>\n",
       "      <td>preheat oven to 350 degrees', 'grease 13 x 9 b...</td>\n",
       "      <td>a yummy thick chocolate mint brownie from york...</td>\n",
       "      <td>butter, sugar, vanilla, eggs, all-purpose flou...</td>\n",
       "      <td>9</td>\n",
       "    </tr>\n",
       "    <tr>\n",
       "      <th>47</th>\n",
       "      <td>jeanne s style  birthday cake</td>\n",
       "      <td>83025</td>\n",
       "      <td>230</td>\n",
       "      <td>116315</td>\n",
       "      <td>4/02/2004</td>\n",
       "      <td>time-to-make', 'course', 'preparation', 'occas...</td>\n",
       "      <td>5467.4, 516.0, 1196.0, 135.0, 110.0, 615.0, 188.0</td>\n",
       "      <td>25</td>\n",
       "      <td>to prepare base , cut shortening into dry ingr...</td>\n",
       "      <td>a bakery in winnipeg is famous for this specia...</td>\n",
       "      <td>shortening, icing sugar, vanilla, all-purpose ...</td>\n",
       "      <td>10</td>\n",
       "    </tr>\n",
       "    <tr>\n",
       "      <th>5634</th>\n",
       "      <td>anna s brilliant biscuits</td>\n",
       "      <td>322288</td>\n",
       "      <td>27</td>\n",
       "      <td>246147</td>\n",
       "      <td>30/08/2008</td>\n",
       "      <td>30-minutes-or-less', 'time-to-make', 'course',...</td>\n",
       "      <td>238.2, 17.0, 0.0, 19.0, 9.0, 34.0, 9.0</td>\n",
       "      <td>12</td>\n",
       "      <td>preheat oven to 450 degrees f', 'combine flour...</td>\n",
       "      <td>these biscuits are so good! my family loved th...</td>\n",
       "      <td>all-purpose flour, salt, baking powder, butter...</td>\n",
       "      <td>5</td>\n",
       "    </tr>\n",
       "  </tbody>\n",
       "</table>\n",
       "</div>"
      ],
      "text/plain": [
       "                                 name      id  minutes  contributor_id  \\\n",
       "24    easiest ever  hollandaise sauce   49262       25           64428   \n",
       "30        get the sensation  brownies   27087       70           37305   \n",
       "47      jeanne s style  birthday cake   83025      230          116315   \n",
       "5634        anna s brilliant biscuits  322288       27          246147   \n",
       "\n",
       "       submitted                                               tags  \\\n",
       "24    19/12/2002  30-minutes-or-less', 'time-to-make', 'course',...   \n",
       "30     3/05/2002  weeknight', 'time-to-make', 'course', 'main-in...   \n",
       "47     4/02/2004  time-to-make', 'course', 'preparation', 'occas...   \n",
       "5634  30/08/2008  30-minutes-or-less', 'time-to-make', 'course',...   \n",
       "\n",
       "                                              nutrition  n_steps  \\\n",
       "24           1290.4, 213.0, 4.0, 53.0, 22.0, 417.0, 1.0        7   \n",
       "30               174.4, 13.0, 67.0, 5.0, 4.0, 26.0, 7.0       11   \n",
       "47    5467.4, 516.0, 1196.0, 135.0, 110.0, 615.0, 188.0       25   \n",
       "5634             238.2, 17.0, 0.0, 19.0, 9.0, 34.0, 9.0       12   \n",
       "\n",
       "                                                  steps  \\\n",
       "24    cut the butter into several pieces and bring t...   \n",
       "30    preheat oven to 350 degrees', 'grease 13 x 9 b...   \n",
       "47    to prepare base , cut shortening into dry ingr...   \n",
       "5634  preheat oven to 450 degrees f', 'combine flour...   \n",
       "\n",
       "                                            description  \\\n",
       "24    the secret to this easy hollandaise sauce is i...   \n",
       "30    a yummy thick chocolate mint brownie from york...   \n",
       "47    a bakery in winnipeg is famous for this specia...   \n",
       "5634  these biscuits are so good! my family loved th...   \n",
       "\n",
       "                                            ingredients  n_ingredients  \n",
       "24    butter, lemon, juice of, salt, white pepper, e...              5  \n",
       "30    butter, sugar, vanilla, eggs, all-purpose flou...              9  \n",
       "47    shortening, icing sugar, vanilla, all-purpose ...             10  \n",
       "5634  all-purpose flour, salt, baking powder, butter...              5  "
      ]
     },
     "execution_count": 30,
     "metadata": {},
     "output_type": "execute_result"
    }
   ],
   "source": [
    "new_df"
   ]
  },
  {
   "cell_type": "code",
   "execution_count": null,
   "id": "fbf9416e",
   "metadata": {},
   "outputs": [],
   "source": []
  },
  {
   "cell_type": "code",
   "execution_count": null,
   "id": "ca15b770",
   "metadata": {},
   "outputs": [],
   "source": []
  },
  {
   "cell_type": "code",
   "execution_count": 29,
   "id": "dc2a9e46",
   "metadata": {},
   "outputs": [
    {
     "data": {
      "text/plain": [
       "[24, 30, 47, 5634]"
      ]
     },
     "execution_count": 29,
     "metadata": {},
     "output_type": "execute_result"
    }
   ],
   "source": [
    "instance.found_recipe_indexes"
   ]
  },
  {
   "cell_type": "code",
   "execution_count": null,
   "id": "b5e806e2",
   "metadata": {},
   "outputs": [],
   "source": []
  }
 ],
 "metadata": {
  "kernelspec": {
   "display_name": "Python 3 (ipykernel)",
   "language": "python",
   "name": "python3"
  },
  "language_info": {
   "codemirror_mode": {
    "name": "ipython",
    "version": 3
   },
   "file_extension": ".py",
   "mimetype": "text/x-python",
   "name": "python",
   "nbconvert_exporter": "python",
   "pygments_lexer": "ipython3",
   "version": "3.8.0"
  }
 },
 "nbformat": 4,
 "nbformat_minor": 5
}
