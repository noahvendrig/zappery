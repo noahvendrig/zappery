{
 "cells": [
  {
   "cell_type": "code",
   "execution_count": 4,
   "id": "c6bb5b31",
   "metadata": {},
   "outputs": [],
   "source": [
    "#import required modules\n",
    "import pandas as pd"
   ]
  },
  {
   "cell_type": "code",
   "execution_count": 5,
   "id": "3ac5511a",
   "metadata": {},
   "outputs": [],
   "source": [
    "dataset = pd.read_csv(\"RAW_recipes.csv\")\n",
    "# print(dataset.head())\n"
   ]
  },
  {
   "cell_type": "code",
   "execution_count": 6,
   "id": "58f59944",
   "metadata": {},
   "outputs": [],
   "source": [
    "#for loop for the column and for loop for every ingredient to find recipes\n",
    "\n",
    "#split spring for ingredients by space and comma\n",
    "\n",
    "# split = ingredients.split(', ') - uncomment this later and work it out into algorithm"
   ]
  },
  {
   "cell_type": "code",
   "execution_count": 16,
   "id": "f2b95f6e",
   "metadata": {},
   "outputs": [],
   "source": [
    "class RecipeFinder:\n",
    "    def __init__(self, query):\n",
    "        self.query = query\n",
    "        self.found_recipe_indexes = []\n",
    "        self.ingredients = []\n",
    "#         self.dataset = pd.read_csv(\"RAW_recipes.csv\")\n",
    "\n",
    "    def ProcessInput(self):\n",
    "        self.ingredients = self.query.split(\", \") # make a list so we can add multiple ingredients that we have\n",
    "#         return ingredients\n",
    "\n",
    "    # list of the indexes of the matching recipes we will find later\n",
    "    def Search(self, dataset):\n",
    "#         ingredients_wanted = ProcessInput(self.query)\n",
    "        for i,j in dataset[21:69].iterrows():\n",
    "            line =j[\"ingredients\"] # line e.g. the cell with the ingredients\n",
    "            line = line.split(\", \") # split by comma to get individual ingredients in list\n",
    "\n",
    "            # old shit below\n",
    "            '''for ingredient in line: # iterate through each ingredient in that recipe\n",
    "                if ingredient in self.ingredients_wanted: # if current ingred in the loop is also in the list of ingredients we have\n",
    "                    # print(i) # index of the row that has recipe with available ingredient\n",
    "        #             print(dataset['name'][i]) # get the name of the recipe\n",
    "                    self.found_recipe_indexes.append(i)\n",
    "            '''\n",
    "            if set(line) == set(self.ingredients_wanted): # convert to set so we can compare if the lists have identical contents regardless of order\n",
    "                self.found_recipe_indexes.append(i)\n",
    "    #             print(set(line))\n",
    "    #             print(set(ingredients_wanted))\n",
    "        return found_recipe_indexes # return the indexes of recipes we found with the desired ingredients\n",
    "\n"
   ]
  },
  {
   "cell_type": "code",
   "execution_count": 17,
   "id": "9fa39840",
   "metadata": {},
   "outputs": [
    {
     "ename": "AttributeError",
     "evalue": "'RecipeFinder' object has no attribute 'ingredients_wanted'",
     "output_type": "error",
     "traceback": [
      "\u001b[1;31m---------------------------------------------------------------------------\u001b[0m",
      "\u001b[1;31mAttributeError\u001b[0m                            Traceback (most recent call last)",
      "Input \u001b[1;32mIn [17]\u001b[0m, in \u001b[0;36m<cell line: 3>\u001b[1;34m()\u001b[0m\n\u001b[0;32m      1\u001b[0m user_ingreds \u001b[38;5;241m=\u001b[39m \u001b[38;5;124m'\u001b[39m\u001b[38;5;124mall-purpose flour, icing sugar, shortening, vanilla, baking powder, sugar, eggs, salt, milk, butter\u001b[39m\u001b[38;5;124m'\u001b[39m \u001b[38;5;66;03m#matches recipe at index 47 jeaness bday cake\u001b[39;00m\n\u001b[0;32m      2\u001b[0m instance \u001b[38;5;241m=\u001b[39m RecipeFinder(user_ingreds)\n\u001b[1;32m----> 3\u001b[0m res \u001b[38;5;241m=\u001b[39m \u001b[43minstance\u001b[49m\u001b[38;5;241;43m.\u001b[39;49m\u001b[43mSearch\u001b[49m\u001b[43m(\u001b[49m\u001b[43mdataset\u001b[49m\u001b[43m,\u001b[49m\u001b[43m \u001b[49m\u001b[43muser_ingreds\u001b[49m\u001b[43m)\u001b[49m\n",
      "Input \u001b[1;32mIn [16]\u001b[0m, in \u001b[0;36mRecipeFinder.Search\u001b[1;34m(self, dataset, ingredients_wanted)\u001b[0m\n\u001b[0;32m     19\u001b[0m         \u001b[38;5;66;03m# old shit below\u001b[39;00m\n\u001b[0;32m     20\u001b[0m         \u001b[38;5;124;03m'''for ingredient in line: # iterate through each ingredient in that recipe\u001b[39;00m\n\u001b[0;32m     21\u001b[0m \u001b[38;5;124;03m            if ingredient in self.ingredients_wanted: # if current ingred in the loop is also in the list of ingredients we have\u001b[39;00m\n\u001b[0;32m     22\u001b[0m \u001b[38;5;124;03m                # print(i) # index of the row that has recipe with available ingredient\u001b[39;00m\n\u001b[0;32m     23\u001b[0m \u001b[38;5;124;03m    #             print(dataset['name'][i]) # get the name of the recipe\u001b[39;00m\n\u001b[0;32m     24\u001b[0m \u001b[38;5;124;03m                self.found_recipe_indexes.append(i)\u001b[39;00m\n\u001b[0;32m     25\u001b[0m \u001b[38;5;124;03m        '''\u001b[39;00m\n\u001b[1;32m---> 26\u001b[0m         \u001b[38;5;28;01mif\u001b[39;00m \u001b[38;5;28mset\u001b[39m(line) \u001b[38;5;241m==\u001b[39m \u001b[38;5;28mset\u001b[39m(\u001b[38;5;28;43mself\u001b[39;49m\u001b[38;5;241;43m.\u001b[39;49m\u001b[43mingredients_wanted\u001b[49m): \u001b[38;5;66;03m# convert to set so we can compare if the lists have identical contents regardless of order\u001b[39;00m\n\u001b[0;32m     27\u001b[0m             \u001b[38;5;28mself\u001b[39m\u001b[38;5;241m.\u001b[39mfound_recipe_indexes\u001b[38;5;241m.\u001b[39mappend(i)\n\u001b[0;32m     28\u001b[0m \u001b[38;5;66;03m#             print(set(line))\u001b[39;00m\n\u001b[0;32m     29\u001b[0m \u001b[38;5;66;03m#             print(set(ingredients_wanted))\u001b[39;00m\n",
      "\u001b[1;31mAttributeError\u001b[0m: 'RecipeFinder' object has no attribute 'ingredients_wanted'"
     ]
    }
   ],
   "source": [
    "user_ingreds = 'all-purpose flour, icing sugar, shortening, vanilla, baking powder, sugar, eggs, salt, milk, butter' #matches recipe at index 47 jeaness bday cake\n",
    "instance = RecipeFinder(user_ingreds)\n",
    "res = instance.Search(dataset, user_ingreds)\n"
   ]
  },
  {
   "cell_type": "code",
   "execution_count": 32,
   "id": "dc2a9e46",
   "metadata": {},
   "outputs": [
    {
     "data": {
      "text/plain": [
       "[47]"
      ]
     },
     "execution_count": 32,
     "metadata": {},
     "output_type": "execute_result"
    }
   ],
   "source": [
    "res"
   ]
  },
  {
   "cell_type": "code",
   "execution_count": 33,
   "id": "ba84b17a",
   "metadata": {},
   "outputs": [],
   "source": [
    "recipes = dataset.iloc[res]"
   ]
  },
  {
   "cell_type": "code",
   "execution_count": 34,
   "id": "206832da",
   "metadata": {},
   "outputs": [
    {
     "data": {
      "text/html": [
       "<div>\n",
       "<style scoped>\n",
       "    .dataframe tbody tr th:only-of-type {\n",
       "        vertical-align: middle;\n",
       "    }\n",
       "\n",
       "    .dataframe tbody tr th {\n",
       "        vertical-align: top;\n",
       "    }\n",
       "\n",
       "    .dataframe thead th {\n",
       "        text-align: right;\n",
       "    }\n",
       "</style>\n",
       "<table border=\"1\" class=\"dataframe\">\n",
       "  <thead>\n",
       "    <tr style=\"text-align: right;\">\n",
       "      <th></th>\n",
       "      <th>name</th>\n",
       "      <th>id</th>\n",
       "      <th>minutes</th>\n",
       "      <th>contributor_id</th>\n",
       "      <th>submitted</th>\n",
       "      <th>tags</th>\n",
       "      <th>nutrition</th>\n",
       "      <th>n_steps</th>\n",
       "      <th>steps</th>\n",
       "      <th>description</th>\n",
       "      <th>ingredients</th>\n",
       "      <th>n_ingredients</th>\n",
       "    </tr>\n",
       "  </thead>\n",
       "  <tbody>\n",
       "    <tr>\n",
       "      <th>47</th>\n",
       "      <td>jeanne s style  birthday cake</td>\n",
       "      <td>83025</td>\n",
       "      <td>230</td>\n",
       "      <td>116315</td>\n",
       "      <td>4/02/2004</td>\n",
       "      <td>time-to-make', 'course', 'preparation', 'occas...</td>\n",
       "      <td>5467.4, 516.0, 1196.0, 135.0, 110.0, 615.0, 188.0</td>\n",
       "      <td>25</td>\n",
       "      <td>to prepare base , cut shortening into dry ingr...</td>\n",
       "      <td>a bakery in winnipeg is famous for this specia...</td>\n",
       "      <td>shortening, icing sugar, vanilla, all-purpose ...</td>\n",
       "      <td>10</td>\n",
       "    </tr>\n",
       "  </tbody>\n",
       "</table>\n",
       "</div>"
      ],
      "text/plain": [
       "                             name     id  minutes  contributor_id  submitted  \\\n",
       "47  jeanne s style  birthday cake  83025      230          116315  4/02/2004   \n",
       "\n",
       "                                                 tags  \\\n",
       "47  time-to-make', 'course', 'preparation', 'occas...   \n",
       "\n",
       "                                            nutrition  n_steps  \\\n",
       "47  5467.4, 516.0, 1196.0, 135.0, 110.0, 615.0, 188.0       25   \n",
       "\n",
       "                                                steps  \\\n",
       "47  to prepare base , cut shortening into dry ingr...   \n",
       "\n",
       "                                          description  \\\n",
       "47  a bakery in winnipeg is famous for this specia...   \n",
       "\n",
       "                                          ingredients  n_ingredients  \n",
       "47  shortening, icing sugar, vanilla, all-purpose ...             10  "
      ]
     },
     "execution_count": 34,
     "metadata": {},
     "output_type": "execute_result"
    }
   ],
   "source": [
    "recipes"
   ]
  },
  {
   "cell_type": "code",
   "execution_count": null,
   "id": "ca15b770",
   "metadata": {},
   "outputs": [],
   "source": []
  }
 ],
 "metadata": {
  "kernelspec": {
   "display_name": "Python 3 (ipykernel)",
   "language": "python",
   "name": "python3"
  },
  "language_info": {
   "codemirror_mode": {
    "name": "ipython",
    "version": 3
   },
   "file_extension": ".py",
   "mimetype": "text/x-python",
   "name": "python",
   "nbconvert_exporter": "python",
   "pygments_lexer": "ipython3",
   "version": "3.8.0"
  }
 },
 "nbformat": 4,
 "nbformat_minor": 5
}
